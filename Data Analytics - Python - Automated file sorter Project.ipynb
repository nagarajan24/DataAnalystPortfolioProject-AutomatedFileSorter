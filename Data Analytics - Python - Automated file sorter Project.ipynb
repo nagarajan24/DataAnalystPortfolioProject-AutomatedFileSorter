{
 "cells": [
  {
   "cell_type": "markdown",
   "id": "b1633a61",
   "metadata": {},
   "source": [
    "# Automated file sorter in file explorer"
   ]
  },
  {
   "cell_type": "code",
   "execution_count": 1,
   "id": "b0bb5b32",
   "metadata": {},
   "outputs": [],
   "source": [
    "import os, shutil"
   ]
  },
  {
   "cell_type": "code",
   "execution_count": 12,
   "id": "beabbc3a",
   "metadata": {},
   "outputs": [],
   "source": [
    "path=r\"D:/Data Analysis/Python Project files/Automated file sorter project files/\""
   ]
  },
  {
   "cell_type": "code",
   "execution_count": 18,
   "id": "076ab495",
   "metadata": {},
   "outputs": [
    {
     "name": "stdout",
     "output_type": "stream",
     "text": [
      "['batman.jpg', 'Cool-Laptop-Wallpaper-4k-1536x864.jpg', 'csv files', 'Dummy File.txt', 'Emp data.csv', 'image files', 'text files']\n"
     ]
    }
   ],
   "source": [
    "file_names = os.listdir(path)\n",
    "print(file_names)"
   ]
  },
  {
   "cell_type": "code",
   "execution_count": 17,
   "id": "983e1850",
   "metadata": {},
   "outputs": [],
   "source": [
    "folder_names=[\"csv files\",\"image files\",\"text files\"]\n",
    "\n",
    "for folder in range(0,len(folder_names)):\n",
    "    if not os.path.exists(folder_names[folder]):\n",
    "        os.makedirs(path+folder_names[folder])\n",
    "for file in file_names:\n",
    "    if \".csv\" in file and not os.path.exists(path+\"csv files/\"+file):\n",
    "        shutil.move(path+file,path+\"csv files/\"+file)\n",
    "    elif \".txt\" in file and not os.path.exists(path+\"text files/\"+file):\n",
    "        shutil.move(path+file,path+\"text files/\"+file)\n",
    "    elif \".jpg\" in file and not os.path.exists(path+\"image files/\"+file):\n",
    "        shutil.move(path+file,path+\"image files/\"+file)\n"
   ]
  },
  {
   "cell_type": "code",
   "execution_count": null,
   "id": "d77e2778",
   "metadata": {},
   "outputs": [],
   "source": []
  }
 ],
 "metadata": {
  "kernelspec": {
   "display_name": "Python 3 (ipykernel)",
   "language": "python",
   "name": "python3"
  },
  "language_info": {
   "codemirror_mode": {
    "name": "ipython",
    "version": 3
   },
   "file_extension": ".py",
   "mimetype": "text/x-python",
   "name": "python",
   "nbconvert_exporter": "python",
   "pygments_lexer": "ipython3",
   "version": "3.9.7"
  }
 },
 "nbformat": 4,
 "nbformat_minor": 5
}
